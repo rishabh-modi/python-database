{
 "cells": [
  {
   "cell_type": "code",
   "execution_count": null,
   "metadata": {
    "collapsed": true
   },
   "outputs": [],
   "source": [
    "# Threading"
   ]
  },
  {
   "cell_type": "code",
   "execution_count": 26,
   "metadata": {},
   "outputs": [
    {
     "name": "stdout",
     "output_type": "stream",
     "text": [
      "squares : 4\n",
      "squares : 9\n",
      "squares : 16\n",
      "squares : 64\n",
      "Cubes : 8\n",
      "Cubes : 27\n",
      "Cubes : 64\n",
      "Cubes : 512\n",
      "done in  1.6224029064178467\n"
     ]
    }
   ],
   "source": [
    "\n",
    "import time\n",
    "numbers=[2,3,4,8]\n",
    "def sum(numbers):\n",
    "    for i in numbers:\n",
    "        time.sleep(0.2)\n",
    "        print(\"squares :\",i*i)\n",
    "    \n",
    "\n",
    "def cubes(numbers):\n",
    "    for i in numbers:\n",
    "        time.sleep(0.2)\n",
    "        print(\"Cubes :\",i*i*i)\n",
    "t=time.time()\n",
    "#print(\"Time before the execution\",t)\n",
    "sum(numbers)\n",
    "cubes(numbers)\n",
    "#print(\"Time after the execution\",t)\n",
    "print(\"done in \",time.time()-t)\n",
    "        \n"
   ]
  },
  {
   "cell_type": "code",
   "execution_count": 2,
   "metadata": {},
   "outputs": [
    {
     "name": "stdout",
     "output_type": "stream",
     "text": [
      "done in  0.0\n",
      "Cubes : 8\n",
      "squares : 4\n",
      "squares :Cubes : 9 \n",
      "27\n",
      "squares :Cubes :  1664\n",
      "\n",
      "squares :Cubes :  51264\n",
      "\n"
     ]
    }
   ],
   "source": [
    "import time\n",
    "import _thread\n",
    "\n",
    "numbers=[2,3,4,8]\n",
    "\n",
    "def sum(numbers):\n",
    "    for i in numbers:\n",
    "        print(\"squares :\",i*i)\n",
    "        time.sleep(0.2)\n",
    "\n",
    "def cubes(numbers):\n",
    "    for i in numbers:\n",
    "        print(\"Cubes :\",i*i*i)\n",
    "        time.sleep(0.2)\n",
    "t=time.time()\n",
    "_thread.start_new_thread(sum,(numbers,))\n",
    "_thread.start_new_thread(cubes,(numbers,))\n",
    "print(\"done in \",time.time()-t)\n"
   ]
  },
  {
   "cell_type": "code",
   "execution_count": 3,
   "metadata": {},
   "outputs": [
    {
     "name": "stdout",
     "output_type": "stream",
     "text": [
      "squares : 4\n",
      "Cubes : 8\n",
      "Cubes :squares :  279\n",
      "\n",
      "squares :Cubes : 16 \n",
      "64\n",
      "Cubes :squares :  64512\n",
      "\n",
      "done in time 0.8268013000488281\n"
     ]
    }
   ],
   "source": [
    "import threading\n",
    "import time\n",
    "\n",
    "numbers=[2,3,4,8]\n",
    "def sum(numbers):\n",
    "    for i in numbers:\n",
    "          print(\"squares :\",i*i)\n",
    "          time.sleep(0.2)\n",
    "def cubes(numbers):\n",
    "    for i in numbers:\n",
    "           print(\"Cubes :\",i*i*i)\n",
    "           time.sleep(0.2)\n",
    "t=time.time()\n",
    "t1=threading.Thread(target=sum,args=(numbers,))\n",
    "t2=threading.Thread(target=cubes,args=(numbers,))\n",
    "t1.start()\n",
    "t2.start()\n",
    "t1.join()\n",
    "t2.join()\n",
    "print(\"done in time\",time.time()-t)\n",
    "        "
   ]
  },
  {
   "cell_type": "code",
   "execution_count": null,
   "metadata": {
    "collapsed": true
   },
   "outputs": [],
   "source": [
    "Creating a Thread using Threading Module:\n",
    "    1. Define a new subclass of the Thread class\n",
    "    2. Override the __init__() method\n",
    "    3. Override the run() method. \n",
    "          In the run()method , specify the instructions that the thread should perform when started.\n",
    "    4. Create the threads\n",
    "    5. start the threads - start()\n",
    "    6. Join the threads -join()\n",
    "    "
   ]
  },
  {
   "cell_type": "code",
   "execution_count": 4,
   "metadata": {},
   "outputs": [
    {
     "name": "stdout",
     "output_type": "stream",
     "text": [
      "Cubes : squares :8\n",
      " 4\n",
      "squares :Cubes : 27 \n",
      "9\n",
      "squares :Cubes : 64\n",
      " 16\n",
      "squares :Cubes : 512\n",
      " 64\n",
      "done in time 0.8268013000488281\n"
     ]
    }
   ],
   "source": [
    "# using threading module and class\n",
    "import threading\n",
    "import time\n",
    "\n",
    "numbers=[2,3,4,8]\n",
    "\n",
    "class myThread1(threading.Thread):  #create a sub class\n",
    "    def __init__(self,numbers):\n",
    "        threading.Thread.__init__(self)\n",
    "        self.numbers=numbers\n",
    "        \n",
    "    def run(self):\n",
    "        for i in numbers:\n",
    "            time.sleep(0.2)\n",
    "            print(\"squares :\",i*i)\n",
    "            \n",
    "class myThread2(threading.Thread):  #create a sub class  \n",
    "    def __init__(self,numbers):\n",
    "        threading.Thread.__init__(self)\n",
    "        self.numbers=numbers\n",
    "        \n",
    "    def run(self):\n",
    "         for i in numbers:\n",
    "            time.sleep(0.2)\n",
    "            print(\"Cubes :\",i*i*i)\n",
    "\n",
    "t=time.time()\n",
    "t1=myThread1(numbers)\n",
    "t2=myThread2(numbers)\n",
    "t1.start()\n",
    "t2.start()\n",
    "t1.join()\n",
    "t2.join()\n",
    "print(\"done in time\",time.time()-t)"
   ]
  },
  {
   "cell_type": "code",
   "execution_count": 5,
   "metadata": {},
   "outputs": [
    {
     "name": "stdout",
     "output_type": "stream",
     "text": [
      "Starting :   Thread1*** : X \n",
      "\n",
      "THREAD NAME : Thread1*** : X  and its incremented counter value : 2\n",
      "Thread Exiting  is :Thread1*** : X \n",
      " \n",
      "Starting :   Thread2--- : Y\n",
      "\n",
      "THREAD NAME : Thread2--- : Y and its incremented counter value : 3\n",
      "Thread Exiting  is :Thread2--- : Y\n",
      " \n"
     ]
    }
   ],
   "source": [
    "#Python multithreading example to demonstrate locking.\n",
    "#1. Define a subclass using Thread class.\n",
    "#2. Instantiate the subclass and trigger the thread. \n",
    "#3. Implement locks in thread's run method. \n",
    "\n",
    "import threading\n",
    "\n",
    "import time\n",
    "\n",
    "\n",
    "class myThread (threading.Thread):\n",
    "    \n",
    "    def __init__(self, name, counter):\n",
    "        threading.Thread.__init__(self)\n",
    "        self.name = name\n",
    "        self.counter = counter\n",
    "        \n",
    "    def run(self):\n",
    "        print (\"Starting :  \" , self.name)\n",
    "        print()\n",
    "        \n",
    "        # Acquire lock to synchronize thread\n",
    "        threadLock.acquire()\n",
    "        \n",
    "        print_date(self.name, self.counter)\n",
    "        \n",
    "        # Release lock for the next thread\n",
    "        \n",
    "        threadLock.release()\n",
    "        \n",
    "        print (\"Thread Exiting  is :\" + self.name)\n",
    "        print(\" \")\n",
    "\n",
    "def print_date(threadName, counter):\n",
    "       #print(\"count of thread objects :\",threading.activeCount())\n",
    "       print (\"THREAD NAME :\",threadName,\"and its incremented counter value :\",counter+1)\n",
    "\n",
    "threadLock = threading.Lock()\n",
    "\n",
    "# Create new threads\n",
    "thread1 = myThread(\"Thread1*** : X \",1)\n",
    "thread2 = myThread(\"Thread2--- : Y\",2)\n",
    "\n",
    "# Start new Threads\n",
    "thread1.start()\n",
    "time.sleep(2)\n",
    "thread2.start()\n",
    "thread1.join()\n",
    "thread2.join()\n",
    "\n",
    "\n",
    "\n",
    "\n"
   ]
  },
  {
   "cell_type": "code",
   "execution_count": 5,
   "metadata": {
    "collapsed": true
   },
   "outputs": [],
   "source": [
    "import queue "
   ]
  },
  {
   "cell_type": "code",
   "execution_count": 8,
   "metadata": {},
   "outputs": [
    {
     "name": "stdout",
     "output_type": "stream",
     "text": [
      "1\n",
      "2\n",
      "0\n",
      "<queue.Queue object at 0x0000000006A9EB00>\n",
      "True\n"
     ]
    }
   ],
   "source": [
    "#queue is a module \n",
    "my_queue = queue.Queue(maxsize=2)\n",
    "my_queue.put(1)\n",
    "my_queue.put(2)\n",
    "#print(my_queue.full())\n",
    "\n",
    "#print(my_queue.qsize())\n",
    "\n",
    "print(my_queue.get(2))\n",
    "print(my_queue.get(1))\n",
    "print(my_queue.qsize())\n",
    "print(my_queue)\n",
    "print(my_queue.empty())\n",
    "\n"
   ]
  },
  {
   "cell_type": "code",
   "execution_count": null,
   "metadata": {
    "collapsed": true
   },
   "outputs": [],
   "source": [
    "\n"
   ]
  },
  {
   "cell_type": "code",
   "execution_count": 19,
   "metadata": {},
   "outputs": [
    {
     "name": "stdout",
     "output_type": "stream",
     "text": [
      "1\n",
      "DoneFalse\n",
      "\n",
      "2\n",
      "False\n",
      "3\n",
      "False\n",
      "4\n",
      "False\n",
      "5\n",
      "True\n"
     ]
    }
   ],
   "source": [
    "from threading import Thread\n",
    "\n",
    "my_queue = queue.Queue(maxsize=5)\n",
    "\n",
    "my_queue.put(1)\n",
    "my_queue.put(2)\n",
    "my_queue.put(3)\n",
    "my_queue.put(4)\n",
    "my_queue.put(5)\n",
    "\n",
    "def do_stuff(my_queue):\n",
    "  \n",
    "  while True:\n",
    "    print (my_queue.get())\n",
    "    print(my_queue.empty())\n",
    "    my_queue.task_done()\n",
    "\n",
    "\n",
    "\n",
    "num_threads = 1\n",
    "\n",
    "for i in range(num_threads):\n",
    "  worker = Thread(target=do_stuff, args=(my_queue,))\n",
    "  # Main thread before it exits checks for the completion of Daemons. (if Daemon is true else abruptly the main thread exits.)\n",
    "  worker.setDaemon(True)\n",
    "  worker.start()\n",
    "\n",
    "for i in range(num_threads):\n",
    "  my_queue.join()\n",
    "  print (\"Done\") \n",
    "    "
   ]
  },
  {
   "cell_type": "code",
   "execution_count": null,
   "metadata": {
    "collapsed": true
   },
   "outputs": [],
   "source": []
  },
  {
   "cell_type": "code",
   "execution_count": null,
   "metadata": {
    "collapsed": true
   },
   "outputs": [],
   "source": []
  },
  {
   "cell_type": "code",
   "execution_count": 34,
   "metadata": {},
   "outputs": [
    {
     "name": "stdout",
     "output_type": "stream",
     "text": [
      "Producer thread name -  Thread-43Consumer thread name -  produced item; Thread-44  0consumed item; \n",
      " 0\n",
      "Producer thread name -  Thread-43 produced item;  1\n",
      "Consumer thread name - Thread-44 consumed item;  1\n",
      "Producer thread name -  Thread-43 produced item;  2\n",
      "Producer thread name -  Thread-43 produced item;  3\n",
      "Consumer thread name - Thread-44 consumed item;  2\n",
      "Producer thread name -  Thread-43 produced item;  4\n",
      "Consumer thread name - Thread-44 consumed item;  3\n",
      "Consumer thread name - Thread-44 consumed item;  4\n"
     ]
    }
   ],
   "source": [
    "# pc_queue.py\n",
    "#\n",
    "# An example of using queues to set up producer/consumer problems\n",
    "\n",
    "import threading\n",
    "import time\n",
    "import queue\n",
    "\n",
    "# A queue of items being produced\n",
    "\n",
    "items = queue.Queue()\n",
    "\n",
    "# A producer thread\n",
    "def producer():\n",
    "    #print (\"I'm the producer\")\n",
    "    for i in range(5):\n",
    "        items.put(i)\n",
    "        #print(\"produced item = \",i,\"and producerthreadname = \",threading.currentThread().name)\n",
    "        #print(\"produced item \\n\",i)\n",
    "        print(\"Producer thread name - \",threading.currentThread().name,\"produced item; \",i)\n",
    "        time.sleep(1)\n",
    "        \n",
    "# A consumer thread\n",
    "def consumer():\n",
    "\n",
    "   # print (\"I'm a consumer :\", threading.currentThread().name)\n",
    "    while True:\n",
    "        x = items.get() \n",
    "        #print (\"Cnsumed item = \",x ,\" and consumerthreadname =\",threading.currentThread().name)\n",
    "        # print(\"consumed item \\n\",x)\n",
    "        print(\"Consumer thread name -\",threading.currentThread().name ,\"consumed item; \",x)\n",
    "        time.sleep(2)\n",
    "    \n",
    "# Run the producer/s \n",
    "prod = threading.Thread(target=producer)\n",
    "prod.setDaemon(True) \n",
    "prod.start()\n",
    "\n",
    "cons = threading.Thread(target=consumer)\n",
    "cons.setDaemon(True)\n",
    "cons.start()\n",
    "\n",
    "\n",
    "#print(\" Main thread Exits\")\n",
    "\n",
    "\n",
    "        "
   ]
  },
  {
   "cell_type": "code",
   "execution_count": null,
   "metadata": {
    "collapsed": true
   },
   "outputs": [],
   "source": []
  },
  {
   "cell_type": "code",
   "execution_count": null,
   "metadata": {
    "collapsed": true
   },
   "outputs": [],
   "source": []
  }
 ],
 "metadata": {
  "kernelspec": {
   "display_name": "Python 3",
   "language": "python",
   "name": "python3"
  },
  "language_info": {
   "codemirror_mode": {
    "name": "ipython",
    "version": 3
   },
   "file_extension": ".py",
   "mimetype": "text/x-python",
   "name": "python",
   "nbconvert_exporter": "python",
   "pygments_lexer": "ipython3",
   "version": "3.6.3"
  }
 },
 "nbformat": 4,
 "nbformat_minor": 2
}
