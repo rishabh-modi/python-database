{
 "cells": [
  {
   "cell_type": "code",
   "execution_count": null,
   "metadata": {
    "collapsed": true
   },
   "outputs": [],
   "source": [
    "OS Module :\n",
    "    1. renaming and deleting files - Methods :rename(), remove()\n",
    "    2. Directory Methods: Methods -\n",
    "                         mkdir(), getcwd(),chdir(), rmdir(),makdirs(),os.path.join()\n",
    "                         os.path.abspath(), os.path.isabs(path),os.path.relpath(path,start),\n",
    "                         os.path.dirname(path),os.path.basename(path),os.path.split(path),\n",
    "                         os.path.split(path),os.path.getsize(path),os.listdir(path),\n",
    "                         os.path.exists(path),os.path.isfile(path),ps.path.isdir(path)\n",
    "    \n",
    "    "
   ]
  },
  {
   "cell_type": "code",
   "execution_count": 20,
   "metadata": {
    "collapsed": true
   },
   "outputs": [],
   "source": [
    "fp=open(\"File1.text\",\"w\")\n",
    "fp.close()"
   ]
  },
  {
   "cell_type": "code",
   "execution_count": 7,
   "metadata": {
    "collapsed": true
   },
   "outputs": [],
   "source": [
    "import os"
   ]
  },
  {
   "cell_type": "code",
   "execution_count": null,
   "metadata": {
    "collapsed": true
   },
   "outputs": [],
   "source": [
    "os.rename()\n",
    "os.remove(File1.text)"
   ]
  },
  {
   "cell_type": "code",
   "execution_count": 1,
   "metadata": {},
   "outputs": [
    {
     "name": "stdout",
     "output_type": "stream",
     "text": [
      "Directory created\n"
     ]
    }
   ],
   "source": [
    "import os\n",
    "os.mkdir(\"New dir\")\n",
    "print(\"Directory created\")"
   ]
  },
  {
   "cell_type": "code",
   "execution_count": 3,
   "metadata": {},
   "outputs": [
    {
     "data": {
      "text/plain": [
       "'C:\\\\Users\\\\Dell'"
      ]
     },
     "execution_count": 3,
     "metadata": {},
     "output_type": "execute_result"
    }
   ],
   "source": [
    "os.getcwd()"
   ]
  },
  {
   "cell_type": "code",
   "execution_count": 4,
   "metadata": {},
   "outputs": [
    {
     "name": "stdout",
     "output_type": "stream",
     "text": [
      "Current Working directory  C:\\Users\\Dell\n",
      " After chang dir , the current direc C:\\Users\\Dell\\New Dir\n"
     ]
    }
   ],
   "source": [
    "#chdir()\n",
    "import os\n",
    "print(\"Current Working directory \",os.getcwd())\n",
    "os.chdir(\"New Dir\")\n",
    "print(\" After chang dir , the current direc \",end='')\n",
    "print(os.getcwd())"
   ]
  },
  {
   "cell_type": "code",
   "execution_count": null,
   "metadata": {
    "collapsed": true
   },
   "outputs": [],
   "source": [
    "-- To delete an existing dir\n",
    "os.rmdir(\"dir_name\")\n"
   ]
  },
  {
   "cell_type": "code",
   "execution_count": null,
   "metadata": {
    "collapsed": true
   },
   "outputs": [],
   "source": [
    "> A dir can be deleted only if it is empty. If the rmdir ()is applied on any non-empty dir OSERROR occurs.\n",
    "> But still , i want delete an non-empty dir - In this case rmtree() - delete a non-empty directory"
   ]
  },
  {
   "cell_type": "code",
   "execution_count": null,
   "metadata": {
    "collapsed": true
   },
   "outputs": [],
   "source": [
    "import shutil\n",
    "shutil.rmtree(\"dir_name\")"
   ]
  },
  {
   "cell_type": "code",
   "execution_count": 7,
   "metadata": {
    "collapsed": true
   },
   "outputs": [],
   "source": [
    "#To create more than one dir makedirs() method is used.\n",
    "import os\n",
    "os.makedirs(\"C:\\\\Users\\\\Dell\\\\New Dir\\\\Dir1\\\\Dir2\\\\Dir3\")"
   ]
  },
  {
   "cell_type": "code",
   "execution_count": 34,
   "metadata": {},
   "outputs": [
    {
     "name": "stdout",
     "output_type": "stream",
     "text": [
      "C :\\Users\\Dell\\B.Tech.docx\n"
     ]
    }
   ],
   "source": [
    "#os.path.join() - By passing dir and file names as string, A complete file path with correct path separators are returned. \n",
    "import os\n",
    "print(os.path.join(\"C :\", \"Users\", \"Dell\",\"B.Tech.docx\"))\n"
   ]
  },
  {
   "cell_type": "code",
   "execution_count": 7,
   "metadata": {},
   "outputs": [
    {
     "name": "stdout",
     "output_type": "stream",
     "text": [
      "C:\\Users\\Dell\\New Dir\n"
     ]
    }
   ],
   "source": [
    "import os\n",
    "print(os.path.abspath(\"New Dir\"))"
   ]
  },
  {
   "cell_type": "code",
   "execution_count": 8,
   "metadata": {},
   "outputs": [
    {
     "name": "stdout",
     "output_type": "stream",
     "text": [
      "False\n",
      "True\n"
     ]
    }
   ],
   "source": [
    "#Program to demonstrate the use of os.path.isabs()\n",
    "print(os.path.isabs(\"Dell\\\\New Dir\"))\n",
    "print(os.path.isabs(\"C:\\\\Dell\\\\New Dir\"))"
   ]
  },
  {
   "cell_type": "code",
   "execution_count": 13,
   "metadata": {},
   "outputs": [
    {
     "name": "stdout",
     "output_type": "stream",
     "text": [
      "..\\..\\Dell\\New dir\\Dir1\\ Dir2   C:\\Dir2\n"
     ]
    }
   ],
   "source": [
    "import os\n",
    "print(os.path.relpath(\"c:\\\\Dell\\\\New dir\\\\Dir1\\\\ Dir2\"),\"  C:\\\\Dir2\")"
   ]
  },
  {
   "cell_type": "code",
   "execution_count": 18,
   "metadata": {},
   "outputs": [
    {
     "name": "stdout",
     "output_type": "stream",
     "text": [
      "c:\\Dell\\New dir\\Dir1\n",
      " Dir2\n"
     ]
    }
   ],
   "source": [
    "#os.path.dirname(path) Method - It returns a string that includes everything specified in the path\n",
    "#(passed as an argument to the method)that comes before the last slash\n",
    "#os.path.basename(path) Method - It returns a string that includes everything specified in the \n",
    "#path(passed as an argument to the method)that comes after the last slash.\n",
    "print(os.path.dirname(\"c:\\\\Dell\\\\New dir\\\\Dir1\\\\ Dir2\"))\n",
    "print(os.path.basename(\"c:\\\\Dell\\\\New dir\\\\Dir1\\\\ Dir2\"))\n"
   ]
  },
  {
   "cell_type": "code",
   "execution_count": 19,
   "metadata": {},
   "outputs": [
    {
     "name": "stdout",
     "output_type": "stream",
     "text": [
      "('c:\\\\Dell\\\\New dir\\\\Dir1', ' Dir2')\n"
     ]
    }
   ],
   "source": [
    "# os.path.split(path)  - The method accepts a file path and returns its dir name and as the basename.\n",
    "print(os.path.split(\"c:\\\\Dell\\\\New dir\\\\Dir1\\\\ Dir2\"))"
   ]
  },
  {
   "cell_type": "code",
   "execution_count": 6,
   "metadata": {},
   "outputs": [
    {
     "name": "stdout",
     "output_type": "stream",
     "text": [
      "C:\\Users\\Dell\n",
      "20480\n",
      "['.anaconda', '.android', '.AndroidStudio3.0', '.conda', '.condarc', '.gradle', '.idlerc', '.ipynb_checkpoints', '.ipython', '.jupyter', '.matplotlib', '.PyCharmCE2017.3', '.spyder-py3', 'AnacondaProjects', 'AndroidStudioProjects', 'AppData', 'Application Data', 'Batch 2_ SET B_QP_Kirthiga (1).docx', 'CLASSES AND OBJECTS.ipynb', 'Contacts', 'Cookies', 'CT1+Q+AND+A(1) (1).ipynb', 'dbase2', 'dbase2-journal', 'DB_lec_9_1.ipynb', 'Desktop', 'Documents', 'Downloads', 'Favorites', 'File Programs', 'File1.text', 'File2.text', 'Links', 'Local Settings', 'Music', 'My Documents', 'NetHood', 'New dir', 'NTUSER.DAT', 'ntuser.dat.LOG1', 'ntuser.dat.LOG2', 'NTUSER.DAT{016888bd-6c6f-11de-8d1d-001e0bcde3ec}.TM.blf', 'NTUSER.DAT{016888bd-6c6f-11de-8d1d-001e0bcde3ec}.TMContainer00000000000000000001.regtrans-ms', 'NTUSER.DAT{016888bd-6c6f-11de-8d1d-001e0bcde3ec}.TMContainer00000000000000000002.regtrans-ms', 'ntuser.ini', 'OBJECT OREIENTED  CONCEPTS', 'Object _oriented session9and10classesandoops_.ipynb', 'OS MODULE.ipynb', 'Pictures', 'PrintHood', 'PycharmProjects', 'Recent', 'REGULAR EXPRESSIONS.ipynb', 'Saved Games', 'Searches', 'SendTo', 'session11_Exception.ipynb', 'session13_4_.ipynb', 'Session2to6.ipynb', 'Session7and8.ipynb', 'Start Menu', 'STRINGS.ipynb', 'Templates', 'Text File Session7and8.ipynb', 'threads.ipynb', 'Untitled Folder 1', 'Untitled Folder 2', 'Untitled.ipynb', 'Untitled1.ipynb', 'Untitled2.ipynb', 'Videos']\n"
     ]
    }
   ],
   "source": [
    "#os.path.getsize(path) - The methods returns the size of the files mentioned in the path arguments.\n",
    "#os.listdir(path) - lists files and dir in the given path\n",
    "import os\n",
    "print(os.getcwd())\n",
    "print(os.path.getsize(\"C:\\\\Users\\\\Dell\"))\n",
    "print(os.listdir(\"C:\\\\Users\\\\Dell\"))\n",
    "fp.close()"
   ]
  },
  {
   "cell_type": "code",
   "execution_count": null,
   "metadata": {
    "collapsed": true
   },
   "outputs": [],
   "source": [
    "#os.path.exists(path)  - Returns True / False\n",
    "#os.path.isfile(path) - Returns True / False\n",
    "#os.path.isdir(path) - Returns True / False"
   ]
  }
 ],
 "metadata": {
  "kernelspec": {
   "display_name": "Python 3",
   "language": "python",
   "name": "python3"
  },
  "language_info": {
   "codemirror_mode": {
    "name": "ipython",
    "version": 3
   },
   "file_extension": ".py",
   "mimetype": "text/x-python",
   "name": "python",
   "nbconvert_exporter": "python",
   "pygments_lexer": "ipython3",
   "version": "3.6.3"
  }
 },
 "nbformat": 4,
 "nbformat_minor": 2
}
