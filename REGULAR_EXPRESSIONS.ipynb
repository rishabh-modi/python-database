{
 "cells": [
  {
   "cell_type": "markdown",
   "metadata": {},
   "source": [
    "  # Regular Expression"
   ]
  },
  {
   "cell_type": "code",
   "execution_count": null,
   "metadata": {
    "collapsed": true
   },
   "outputs": [],
   "source": [
    "                                        PREBUILT FUNCTIONS of re Module\n",
    "    \n",
    "    match()\n",
    "    search()\n",
    "    sub()\n",
    "    findall()\n",
    "    finditer()\n",
    "    compile()\n",
    "    \n",
    "       > IT IS A SPECIAL TEXT STRING\n",
    "       > SEARCH PATTERN IS GIVEN AS A REGULAR EXRESSION TO EXTRACT \n",
    "         INFORMATION FROM TEXT SUCH AS CODE,FILES,LOGS,SPREADSHEETS.\n",
    "       > REGULAR EXPRESSIONS ARE DOMAIN SPECIFIC LANGUAGE FOUND IN MOST OF THE PROGRAMMING LANGUAGES\n",
    "       > A regular expression is a special sequence of characters helps to match or find strings in another strings.\n",
    "       > In python regular expressions can be applied using re Module which is a part of the standard Library.\n",
    "    \n",
    "    "
   ]
  },
  {
   "cell_type": "code",
   "execution_count": null,
   "metadata": {
    "collapsed": true
   },
   "outputs": [],
   "source": [
    " match()\n",
    "    syntax:\n",
    "        re.match(pattern,string,flag=0)\n",
    "        \n",
    "        The function tries to match the pattern(regular expression) with a string \n",
    "        (will be searched for the pattern at the beginning of the string).\n",
    "        The flag field is optional.\n",
    "        \n",
    "        Flag options:  \n",
    "                       re.I - case sensitive matching\n",
    "                       re.M - Matches at the end of the line\n",
    "                       re.X - Ignores whitespaces characteres\n",
    "                       \n",
    "                                                                                  "
   ]
  },
  {
   "cell_type": "code",
   "execution_count": 1,
   "metadata": {},
   "outputs": [
    {
     "name": "stdout",
     "output_type": "stream",
     "text": [
      "Not found\n",
      "Match found\n"
     ]
    }
   ],
   "source": [
    "# re.match() - finds a match only at the beginning of the string\n",
    "import re\n",
    "string = \"Nice to see you all today\"\n",
    "pattern1 = \"all\"\n",
    "if re.match(pattern1,string):\n",
    "     print(\"Match found\")\n",
    "else:\n",
    "    print(\"Not found\")\n",
    "pattern2=\"Nice\"\n",
    "if re.match(pattern2,string):\n",
    "    print(\"Match found\")\n",
    "else:\n",
    "    print(\"Not found\")\n",
    "    "
   ]
  },
  {
   "cell_type": "code",
   "execution_count": 5,
   "metadata": {},
   "outputs": [
    {
     "name": "stdout",
     "output_type": "stream",
     "text": [
      "Match found\n"
     ]
    }
   ],
   "source": [
    "# re.search() - finds a match of a pattern anywhere in the string\n",
    "import re\n",
    "string = \"Nice to see you all today\"\n",
    "pattern1 = \"all\"\n",
    "if re.search(pattern1,string):\n",
    "     print(\"Match found\")\n",
    "else:\n",
    "    print(\"Not found\")\n"
   ]
  },
  {
   "cell_type": "code",
   "execution_count": null,
   "metadata": {
    "collapsed": true
   },
   "outputs": [],
   "source": [
    "sub() === substitute function\n",
    "  The sub() function in the re module can be used to search a pattern in the string and replace it with another string.\n",
    "    \n",
    "Syntax:\n",
    "        re.sub(pattern,repl,string,max=0)\n",
    "        \n"
   ]
  },
  {
   "cell_type": "code",
   "execution_count": 7,
   "metadata": {},
   "outputs": [
    {
     "name": "stdout",
     "output_type": "stream",
     "text": [
      "Nice to see U all today, see you all tomorrow \n"
     ]
    }
   ],
   "source": [
    "import re\n",
    "string = \"Nice to see you all today, see you all tomorrow \"\n",
    "pattern1 = \"you\"\n",
    "repl=\"U\"\n",
    "new_string1= re.sub(pattern1,repl,string,1)\n",
    "print(new_string1)\n",
    "\n"
   ]
  },
  {
   "cell_type": "code",
   "execution_count": null,
   "metadata": {
    "collapsed": true
   },
   "outputs": [],
   "source": [
    "findall()\n",
    "\n",
    "     The findall() function is used to search a string and returns a list of matches of the pattern in the string.\n",
    "     if no match is found, then the returned list is empty.\n",
    "     \n",
    "    match() syntax:\n",
    "        \n",
    "        matchList=re.findall(pattern,input_str,flags=0)"
   ]
  },
  {
   "cell_type": "code",
   "execution_count": 8,
   "metadata": {},
   "outputs": [
    {
     "name": "stdout",
     "output_type": "stream",
     "text": [
      "Jan 2018 FEB 2018 April 2018 JULY 2018 "
     ]
    }
   ],
   "source": [
    "import re\n",
    "pattern=r\"[a-zA-Z]+ \\d+\"\n",
    "# finding all patterns that begin with one or more characters followed by a space and then followed by one or more digits.\n",
    "matches=re.findall(pattern,\"Jan 2018, FEB 2018, March2018, April 2018, May,Jume, JULY 2018\")\n",
    "for each in matches:\n",
    "                  print(each,end= \" \")\n",
    "\n"
   ]
  },
  {
   "cell_type": "code",
   "execution_count": null,
   "metadata": {
    "collapsed": true
   },
   "outputs": [],
   "source": [
    "finditer()\n",
    " The finditer() is same as findall() - but instead of returning match object, it returns an iterator.\n",
    "   "
   ]
  },
  {
   "cell_type": "code",
   "execution_count": 11,
   "metadata": {},
   "outputs": [
    {
     "name": "stdout",
     "output_type": "stream",
     "text": [
      "starting index  0\n",
      "ending index  8\n",
      "starting and ending index  (0, 8)\n",
      "starting index  9\n",
      "ending index  17\n",
      "starting and ending index  (9, 17)\n",
      "starting index  28\n",
      "ending index  38\n",
      "starting and ending index  (28, 38)\n",
      "starting index  48\n",
      "ending index  57\n",
      "starting and ending index  (48, 57)\n"
     ]
    }
   ],
   "source": [
    "import re\n",
    "pattern=r\"[a-zA-Z]+ \\d+\"\n",
    "# finding all patterns that begin with one or more characters followed by a space and then followed by one or more digits.\n",
    "matches=re.finditer(pattern,\"Jan 2018,FEB 2018,March2018,April 2018,May,June,JULY 2018\")\n",
    "for each in matches:\n",
    "                  print(\"starting index \",each.start())\n",
    "                  print(\"ending index \",each.end())\n",
    "                  print(\"starting and ending index \", each.span())"
   ]
  },
  {
   "cell_type": "code",
   "execution_count": 2,
   "metadata": {
    "collapsed": true
   },
   "outputs": [],
   "source": [
    "import re"
   ]
  },
  {
   "cell_type": "code",
   "execution_count": null,
   "metadata": {
    "collapsed": true
   },
   "outputs": [],
   "source": [
    "           Compile a regular expression pattern into a regular expression object, \n",
    "which can be used for matching using its match() and search() methods, described below.\n",
    "\n",
    "prog = re.compile(pattern)\n",
    "result = prog.match(string)\n",
    "\n",
    "is equivalent to\n",
    "\n",
    "    result = re.match(pattern, string)\n",
    "\n",
    "but using re.compile() and saving the resulting \n",
    "               regular expression object for reuse is more efficient \n",
    "                                 when the expression will be used several times in a single program."
   ]
  },
  {
   "cell_type": "code",
   "execution_count": 26,
   "metadata": {},
   "outputs": [
    {
     "name": "stdout",
     "output_type": "stream",
     "text": [
      "<_sre.SRE_Match object; span=(4, 8), match='data'>\n"
     ]
    }
   ],
   "source": [
    "pattern = \"data\"\n",
    "string = \"Big data Analytics\"\n",
    "prog = re.compile(pattern)\n",
    "result = prog.search(string)\n",
    "#result = prog.match(string)\n",
    "print(result)"
   ]
  },
  {
   "cell_type": "code",
   "execution_count": 27,
   "metadata": {
    "collapsed": true
   },
   "outputs": [],
   "source": [
    "text1 = 'Hello spam... World'\n",
    "text2 = 'Hello spam... other'"
   ]
  },
  {
   "cell_type": "code",
   "execution_count": 28,
   "metadata": {},
   "outputs": [
    {
     "name": "stdout",
     "output_type": "stream",
     "text": [
      "<_sre.SRE_Match object; span=(0, 19), match='Hello spam... World'>\n"
     ]
    }
   ],
   "source": [
    "match1 = re.match('Hello(.*)World', text1)\n",
    "#.*any char zero or more time\n",
    "print(match1)\n"
   ]
  },
  {
   "cell_type": "code",
   "execution_count": null,
   "metadata": {
    "collapsed": true
   },
   "outputs": [],
   "source": [
    "       GROUPS : A group is created by surrounding a regular expression with paranthesis.\n",
    "        "
   ]
  },
  {
   "cell_type": "code",
   "execution_count": 33,
   "metadata": {},
   "outputs": [
    {
     "name": "stdout",
     "output_type": "stream",
     "text": [
      "<_sre.SRE_Match object; span=(0, 19), match='Hello spam... World'>\n",
      " spam... \n",
      "World\n"
     ]
    }
   ],
   "source": [
    "match = re.match('Hello(.*)(World)', text1)\n",
    "# (.*) - group 1\n",
    "# (World) - group 2\n",
    "print(match)\n",
    "print(match.group(1))\n",
    "# match for subgroup(1) - the one inside first the paranthesis\n",
    "print(match.group(2))\n",
    "# match for subgroup(2) - the one inside second paranthesis\n"
   ]
  },
  {
   "cell_type": "code",
   "execution_count": 34,
   "metadata": {},
   "outputs": [
    {
     "data": {
      "text/plain": [
       "' spam... '"
      ]
     },
     "execution_count": 34,
     "metadata": {},
     "output_type": "execute_result"
    }
   ],
   "source": [
    "pattobj = re.compile('Hello(.*)World')#Compile a regular expression pattern into a regular expression object                                    \n",
    "matchobj = pattobj.match(text1)       ## object, which can be used for matching \n",
    "matchobj.group(1)                     #using its match() and search() methods\n"
   ]
  },
  {
   "cell_type": "code",
   "execution_count": 11,
   "metadata": {},
   "outputs": [
    {
     "name": "stdout",
     "output_type": "stream",
     "text": [
      "<_sre.SRE_Match object; span=(0, 15), match='Hello spamworld'>\n"
     ]
    },
    {
     "data": {
      "text/plain": [
       "'spam'"
      ]
     },
     "execution_count": 11,
     "metadata": {},
     "output_type": "execute_result"
    }
   ],
   "source": [
    "patt = '[ \\t]*Hello[ \\t]+(.*)[Ww]orld'\n",
    "# * zero or more occurences , + one or more occurences , [Ww] Matches any single character in brackets\n",
    "string= 'Hello spamworld'\n",
    "mobj = re.match(patt, string)\n",
    "if mobj:\n",
    "    print(mobj)\n",
    "#print mobj\n",
    "mobj.group(1)\n"
   ]
  },
  {
   "cell_type": "code",
   "execution_count": 37,
   "metadata": {},
   "outputs": [
    {
     "name": "stdout",
     "output_type": "stream",
     "text": [
      "spam\n"
     ]
    }
   ],
   "source": [
    "line = ' Hello spamworld'\n",
    "print (re.match('[ \\t]*Hello[ \\t]+(.*)[Ww]orld', line).group(1))"
   ]
  },
  {
   "cell_type": "code",
   "execution_count": 38,
   "metadata": {},
   "outputs": [
    {
     "data": {
      "text/plain": [
       "['aaa', 'bbb', 'ccc']"
      ]
     },
     "execution_count": 38,
     "metadata": {},
     "output_type": "execute_result"
    }
   ],
   "source": [
    "'aaa--bbb--ccc'.split('--')\n"
   ]
  },
  {
   "cell_type": "code",
   "execution_count": 40,
   "metadata": {},
   "outputs": [
    {
     "data": {
      "text/plain": [
       "'aaa...bbb...ccc'"
      ]
     },
     "execution_count": 40,
     "metadata": {},
     "output_type": "execute_result"
    }
   ],
   "source": [
    "'aaa--bbb--ccc'.replace('--', '...')"
   ]
  },
  {
   "cell_type": "code",
   "execution_count": 9,
   "metadata": {
    "collapsed": true
   },
   "outputs": [],
   "source": [
    "#'aaa--bbb==ccc'.split('--', '==')"
   ]
  },
  {
   "cell_type": "code",
   "execution_count": 41,
   "metadata": {},
   "outputs": [
    {
     "data": {
      "text/plain": [
       "'aaa--bbb==ccc'"
      ]
     },
     "execution_count": 41,
     "metadata": {},
     "output_type": "execute_result"
    }
   ],
   "source": [
    "'aaa--bbb==ccc'.replace('--|==', '...')"
   ]
  },
  {
   "cell_type": "code",
   "execution_count": 10,
   "metadata": {},
   "outputs": [
    {
     "data": {
      "text/plain": [
       "['aaa', 'bbb', 'ccc']"
      ]
     },
     "execution_count": 10,
     "metadata": {},
     "output_type": "execute_result"
    }
   ],
   "source": [
    "re.split('--', 'aaa--bbb--ccc')"
   ]
  },
  {
   "cell_type": "code",
   "execution_count": 11,
   "metadata": {},
   "outputs": [
    {
     "data": {
      "text/plain": [
       "'aaa...bbb...ccc'"
      ]
     },
     "execution_count": 11,
     "metadata": {},
     "output_type": "execute_result"
    }
   ],
   "source": [
    "re.sub('--', '...', 'aaa--bbb--ccc')"
   ]
  },
  {
   "cell_type": "code",
   "execution_count": 12,
   "metadata": {},
   "outputs": [
    {
     "data": {
      "text/plain": [
       "['aaa', 'bbb', 'ccc']"
      ]
     },
     "execution_count": 12,
     "metadata": {},
     "output_type": "execute_result"
    }
   ],
   "source": [
    "re.split('--|==', 'aaa--bbb==ccc')"
   ]
  },
  {
   "cell_type": "code",
   "execution_count": 13,
   "metadata": {},
   "outputs": [
    {
     "data": {
      "text/plain": [
       "'aaa...bbb...ccc'"
      ]
     },
     "execution_count": 13,
     "metadata": {},
     "output_type": "execute_result"
    }
   ],
   "source": [
    "re.sub('--|==', '...', 'aaa--bbb==ccc')"
   ]
  },
  {
   "cell_type": "code",
   "execution_count": 14,
   "metadata": {},
   "outputs": [
    {
     "data": {
      "text/plain": [
       "['aaa', 'bbb', 'ccc']"
      ]
     },
     "execution_count": 14,
     "metadata": {},
     "output_type": "execute_result"
    }
   ],
   "source": [
    "re.split('[-=]', 'aaa-bbb=ccc')"
   ]
  },
  {
   "cell_type": "code",
   "execution_count": 16,
   "metadata": {},
   "outputs": [
    {
     "data": {
      "text/plain": [
       "('spam', 'ham', 'eggs')"
      ]
     },
     "execution_count": 16,
     "metadata": {},
     "output_type": "execute_result"
    }
   ],
   "source": [
    "re.match('<(.*)>/<(.*)>/<(.*)>', '<spam>/<ham>/<eggs>').groups()"
   ]
  },
  {
   "cell_type": "code",
   "execution_count": 43,
   "metadata": {},
   "outputs": [
    {
     "data": {
      "text/plain": [
       "[('spam', 'ham'), ('eggs', 'cheese')]"
      ]
     },
     "execution_count": 43,
     "metadata": {},
     "output_type": "execute_result"
    }
   ],
   "source": [
    "re.findall('<(.*?)>/?<(.*?)>', '<spam>/<ham>...<eggs><cheese>')"
   ]
  },
  {
   "cell_type": "code",
   "execution_count": 45,
   "metadata": {},
   "outputs": [
    {
     "data": {
      "text/plain": [
       "('spam', 'ham')"
      ]
     },
     "execution_count": 45,
     "metadata": {},
     "output_type": "execute_result"
    }
   ],
   "source": [
    "re.search('<(.*?)>/?<(.*?)>', 'todays menu: <spam>/<ham>...<eggs><s>').groups()"
   ]
  },
  {
   "cell_type": "code",
   "execution_count": null,
   "metadata": {
    "collapsed": true
   },
   "outputs": [],
   "source": [
    "line = 'aaa  bbb ccc'\n",
    "print (line.split())# split data with fixed delimiters\n",
    "\n",
    "\n",
    "re.findall('[^ ]+', line)# find non-delimiter runs\n"
   ]
  },
  {
   "cell_type": "code",
   "execution_count": null,
   "metadata": {
    "collapsed": true
   },
   "outputs": [],
   "source": [
    "re.split(' +', line)# split on general delimiters"
   ]
  },
  {
   "cell_type": "code",
   "execution_count": 25,
   "metadata": {},
   "outputs": [
    {
     "data": {
      "text/plain": [
       "['aaa', 'bbb', 'ccc', 'ddd', 'e&e*e']"
      ]
     },
     "execution_count": 25,
     "metadata": {},
     "output_type": "execute_result"
    }
   ],
   "source": [
    "line = 'aaa...bbb-ccc / ddd.-/e&e*e'\n",
    "re.findall('[^ \\.\\-/]+', line) #exept dot - / findall "
   ]
  },
  {
   "cell_type": "code",
   "execution_count": null,
   "metadata": {
    "collapsed": true
   },
   "outputs": [],
   "source": [
    "#(?=regex_here) is a positive lookahead\n",
    "#returning only the result: match or no match\n",
    "#called \"assertions\"\n",
    "# only assert whether a match is possible or not\n",
    "\n",
    "import re\n",
    "pwd=\"Pas#3sword\"\n",
    "if not re.match(\"(?=.*[a-z])(?=.*[A-Z])(?=.*[0-9])(?=.*[!@#\\$%\\^&\\*])(?=.{8,})\",pwd):\n",
    "    print (\"not a valid email pwd\")\n",
    "else:\n",
    "    print (\"valid pwd\")"
   ]
  },
  {
   "cell_type": "markdown",
   "metadata": {},
   "source": [
    "Meta Characters\n",
    "\n",
    "#using regex validate emailid and phone no(indian format)\n",
    "a, X, 9\n",
    "ordinary characters just match themselves exactly. \n",
    "\n",
    ". ^ $ * + ? { [ ]  | ( ) \n",
    "meta-characters with special meanings (see below)\n",
    " \n",
    ". (a period)\n",
    "matches any single character except newline 'n'\n",
    "\n",
    "w    \n",
    "matches a \"word\" character: a letter or digit or underbar [a-zA-Z0-9_]. \n",
    "It only matches a single character not a whole word.\n",
    "\n",
    "W \n",
    "matches any non-word character.\n",
    "\n",
    "w+\n",
    "matches one or more words / characters\n",
    "\n",
    "b \n",
    "boundary between word and non-word\n",
    "\n",
    "s \n",
    "matches a single whitespace character, space, newline, return, tab, form\n",
    "\n",
    "S \n",
    "matches any non-whitespace character.\n",
    "\n",
    "t, n, r \n",
    "tab, newline, return\n",
    "\n",
    "D\n",
    "matches anything but a digit\n",
    "\n",
    "d \n",
    "matches a decimal digit [0-9]\n",
    "\n",
    "d{1,5}\n",
    "matches a digit between 1 and 5 in lengths. \n",
    "\n",
    "{n} d{5}\n",
    "matches for 5 digits in a row\n",
    "\n",
    "^\n",
    "match the start of the string\n",
    "\n",
    "$\n",
    "match the of the string end\n",
    "\n",
    "*\n",
    "matches 0 or more repetitions\n",
    "\n",
    "?\n",
    "matches 0 or 1 characters of whatever precedes it\n",
    "\n",
    " \n",
    "use . to match a period or  to match a slash. \n",
    "\n",
    "If you are unsure if a character has special meaning, such as '@', you can\n",
    "put a slash in front of it, @, to make sure it is treated just as a character. "
   ]
  }
 ],
 "metadata": {
  "anaconda-cloud": {},
  "celltoolbar": "Raw Cell Format",
  "kernelspec": {
   "display_name": "Python 3",
   "language": "python",
   "name": "python3"
  },
  "language_info": {
   "codemirror_mode": {
    "name": "ipython",
    "version": 3
   },
   "file_extension": ".py",
   "mimetype": "text/x-python",
   "name": "python",
   "nbconvert_exporter": "python",
   "pygments_lexer": "ipython3",
   "version": "3.6.3"
  }
 },
 "nbformat": 4,
 "nbformat_minor": 1
}
